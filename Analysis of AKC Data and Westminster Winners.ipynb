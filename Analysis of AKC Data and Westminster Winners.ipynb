{
 "cells": [
  {
   "cell_type": "markdown",
   "id": "9d1ebf5d",
   "metadata": {},
   "source": [
    "# Introduction\n",
    "\n",
    "This notebook analyzes data from the American Kennel Club (AKC) and Westminster Kennel Club Dog Show winners. It explores patterns and similarities among dog breeds based on attributes like trainability, energy level, and popularity. The analysis includes clustering using K-means to group breeds with similar traits, dimensionality reduction using PCA for visualization, and a classification model to predict breed groups. Additionally, it merges AKC data with Westminster winners to identify trends and relationships specific to winning breeds."
   ]
  },
  {
   "cell_type": "code",
   "execution_count": null,
   "id": "db708413",
   "metadata": {},
   "outputs": [],
   "source": [
    "# Import libraries\n",
    "import pandas as pd\n",
    "import numpy as np\n",
    "import matplotlib.pyplot as plt\n",
    "from sklearn.preprocessing import StandardScaler\n",
    "from sklearn.decomposition import PCA\n",
    "from sklearn.cluster import KMeans\n",
    "from sklearn.model_selection import train_test_split\n",
    "from sklearn.ensemble import RandomForestClassifier\n",
    "from sklearn.metrics import accuracy_score\n",
    "from sklearn.neighbors import NearestNeighbors"
   ]
  },
  {
   "cell_type": "markdown",
   "id": "b64aa1ed",
   "metadata": {},
   "source": [
    "## Import Libraries and Load Data\n",
    "This section imports necessary libraries and loads the AKC Breeds dataset (`cleaned_data`) and Westminster Winners dataset (`westminster_data`). The two datasets will be cleaned and merged later for analysis."
   ]
  },
  {
   "cell_type": "code",
   "execution_count": null,
   "id": "a1ea0592",
   "metadata": {},
   "outputs": [],
   "source": [
    "# Load datasets\n",
    "cleaned_data = pd.read_csv(\"cleaned_data.csv\")\n",
    "westminster_data = pd.read_csv(\"westminster_best_in_show.csv\")\n",
    "\n",
    "cleaned_data = cleaned_data.rename(columns={'...1':'Breed'})\n",
    "\n",
    "# Initial data preview\n",
    "print(cleaned_data.head())\n",
    "print(westminster_data.head())"
   ]
  },
  {
   "cell_type": "markdown",
   "id": "c3bca8d7",
   "metadata": {},
   "source": [
    "## Clustering on Full Dataset (AKC Breeds)\n",
    "We perform clustering on the full `cleaned_data` dataset using K-means to identify patterns in breed characteristics such as popularity, trainability, energy level, and height."
   ]
  },
  {
   "cell_type": "code",
   "execution_count": null,
   "id": "bef4e944",
   "metadata": {},
   "outputs": [],
   "source": [
    "# Select numeric features for clustering\n",
    "numeric_features = cleaned_data[['popularity', 'trainability_value', 'demeanor_value', 'energy_level_value', 'min_height', 'max_height']]\n",
    "\n",
    "# Scale features\n",
    "scaler = StandardScaler()\n",
    "scaled_features = scaler.fit_transform(numeric_features)\n",
    "\n",
    "# Perform K-means clustering\n",
    "kmeans = KMeans(n_clusters=3, random_state=42)\n",
    "cleaned_data['Cluster'] = kmeans.fit_predict(scaled_features)\n",
    "\n",
    "# Visualize clusters\n",
    "plt.figure(figsize=(10, 6))\n",
    "for cluster in range(3):\n",
    "    cluster_data = cleaned_data[cleaned_data['Cluster'] == cluster]\n",
    "    plt.scatter(cluster_data['popularity'], cluster_data['trainability_value'], label=f'Cluster {cluster}')\n",
    "\n",
    "plt.title('Clusters: Popularity vs. Trainability')\n",
    "plt.xlabel('Popularity')\n",
    "plt.ylabel('Trainability')\n",
    "plt.legend()\n",
    "plt.show()"
   ]
  },
  {
   "cell_type": "markdown",
   "id": "51b7b202",
   "metadata": {},
   "source": [
    "## Clustering and Analysis for Merged Dataset\n",
    "After clustering on the full dataset, we merge the AKC Breeds data with the Westminster Winners dataset to analyze patterns among winners."
   ]
  },
  {
   "cell_type": "code",
   "execution_count": null,
   "id": "d66f80c4",
   "metadata": {},
   "outputs": [],
   "source": [
    "# Merge datasets\n",
    "# Standardize column names\n",
    "cleaned_data.rename(columns={\"group\": \"Group\"}, inplace=True)\n",
    "# Merge the datasets on Breed\n",
    "merged_data = pd.merge(westminster_data, cleaned_data, left_on=\"Breed\", right_on=\"Breed\", how=\"inner\")\n",
    "\n",
    "# Select numeric features for clustering\n",
    "merged_features = merged_data[['popularity', 'trainability_value', 'demeanor_value', 'energy_level_value', 'min_height', 'max_height']]\n",
    "\n",
    "# Scale features\n",
    "scaled_merged_features = scaler.fit_transform(merged_features)\n",
    "\n",
    "# Perform K-means clustering\n",
    "kmeans_merged = KMeans(n_clusters=3, random_state=42)\n",
    "merged_data['Cluster'] = kmeans_merged.fit_predict(scaled_merged_features)\n",
    "\n",
    "# Visualize clusters\n",
    "plt.figure(figsize=(10, 6))\n",
    "for cluster in range(3):\n",
    "    cluster_data = merged_data[merged_data['Cluster'] == cluster]\n",
    "    plt.scatter(cluster_data['popularity'], cluster_data['trainability_value'], label=f'Cluster {cluster}')\n",
    "\n",
    "plt.title('Clusters in Merged Dataset')\n",
    "plt.xlabel('Popularity')\n",
    "plt.ylabel('Trainability')\n",
    "plt.legend()\n",
    "plt.show()"
   ]
  },
  {
   "cell_type": "markdown",
   "id": "2cd6097b",
   "metadata": {},
   "source": [
    "### Interpretation of Clusters\n",
    "- **Cluster 0:** These breeds tend to be highly trainable with moderate popularity.\n",
    "- **Cluster 1:** These breeds are less trainable but very popular.\n",
    "- **Cluster 2:** These breeds have high energy levels but are less popular."
   ]
  },
  {
   "cell_type": "markdown",
   "id": "72b9c3b8",
   "metadata": {},
   "source": [
    "## Visualizing Breed Similarity Using PCA\n",
    "PCA reduces the dimensionality of the data to visualize how similar breeds are based on their features."
   ]
  },
  {
   "cell_type": "code",
   "execution_count": null,
   "id": "c438eb07",
   "metadata": {},
   "outputs": [],
   "source": [
    "# PCA for full dataset\n",
    "pca = PCA(n_components=2)\n",
    "reduced_features = pca.fit_transform(scaled_features)\n",
    "\n",
    "plt.figure(figsize=(10, 6))\n",
    "plt.scatter(reduced_features[:, 0], reduced_features[:, 1], c=cleaned_data['Cluster'], cmap='viridis', alpha=0.7)\n",
    "plt.colorbar(label='Cluster')\n",
    "plt.title('Breed Similarity in Full Dataset')\n",
    "plt.xlabel('PCA Component 1')\n",
    "plt.ylabel('PCA Component 2')\n",
    "plt.show()"
   ]
  },
  {
   "cell_type": "markdown",
   "id": "ba127b28",
   "metadata": {},
   "source": [
    "## Classification of Breeds\n",
    "We use a Random Forest Classifier to predict breed groups based on their features. The goal is to understand which features contribute most to group classification."
   ]
  },
  {
   "cell_type": "code",
   "execution_count": null,
   "id": "50a98522",
   "metadata": {},
   "outputs": [],
   "source": [
    "# Choose the correct column, e.g., 'Group_x', and rename it to 'Group'\n",
    "merged_data['Group'] = merged_data['Group_x']\n",
    "\n",
    "\n",
    "# Prepare data for classification\n",
    "X = merged_data[['popularity', 'trainability_value', 'demeanor_value', 'energy_level_value', 'min_height', 'max_height']]\n",
    "y = merged_data['Group']\n",
    "\n",
    "# Train-test split\n",
    "X_train, X_test, y_train, y_test = train_test_split(X, y, test_size=0.3, random_state=42)\n",
    "\n",
    "# Train Random Forest Classifier\n",
    "clf = RandomForestClassifier(n_estimators=100, random_state=42)\n",
    "clf.fit(X_train, y_train)\n",
    "\n",
    "# Evaluate accuracy\n",
    "y_pred = clf.predict(X_test)\n",
    "print(f\"Accuracy: {accuracy_score(y_test, y_pred)}\")"
   ]
  },
  {
   "cell_type": "markdown",
   "id": "e817e4ca",
   "metadata": {},
   "source": [
    "## Finding Similar Breeds"
   ]
  },
  {
   "cell_type": "markdown",
   "id": "c8b15d90",
   "metadata": {},
   "source": [
    "### Based on Selected Breed"
   ]
  },
  {
   "cell_type": "code",
   "execution_count": null,
   "id": "a2455876",
   "metadata": {},
   "outputs": [],
   "source": [
    "def find_similar_breeds_by_name(breed_name, n_neighbors=5, dataset=cleaned_data):\n",
    "    # Drop duplicates and select relevant features\n",
    "    unique_breeds = dataset.drop_duplicates(subset=['Breed'])\n",
    "    breed_features = unique_breeds[['popularity', 'trainability_value', 'demeanor_value', 'energy_level_value', 'min_height', 'max_height']]\n",
    "\n",
    "    # Normalize features\n",
    "    scaler = StandardScaler()\n",
    "    scaled_features = scaler.fit_transform(breed_features)\n",
    "\n",
    "    # Fit Nearest Neighbors model\n",
    "    knn = NearestNeighbors(n_neighbors=n_neighbors, algorithm='ball_tree')\n",
    "    knn.fit(scaled_features)\n",
    "\n",
    "    # Find the index of the breed by name\n",
    "    try:\n",
    "        breed_index = unique_breeds[unique_breeds['Breed'] == breed_name].index[0]\n",
    "    except IndexError:\n",
    "        print(f\"Breed '{breed_name}' not found in the dataset.\")\n",
    "        return\n",
    "\n",
    "    # Use the scaled features to find the nearest neighbors\n",
    "    distances, indices = knn.kneighbors([scaled_features[breed_index]])\n",
    "\n",
    "    # Display similar breeds\n",
    "    print(f\"Similar breeds to '{breed_name}':\")\n",
    "    for i in indices[0]:\n",
    "        similar_breed = unique_breeds.iloc[i]['Breed']\n",
    "        if similar_breed != breed_name:  # Exclude the queried breed itself\n",
    "            print(f\"- {similar_breed}\")\n",
    "\n",
    "# Example usage\n",
    "find_similar_breeds_by_name('Golden Retriever', n_neighbors=5)\n"
   ]
  },
  {
   "cell_type": "markdown",
   "id": "1f5b6d6d",
   "metadata": {},
   "source": [
    "### Based on Selected Traits "
   ]
  },
  {
   "cell_type": "code",
   "execution_count": null,
   "id": "dcf6068e",
   "metadata": {},
   "outputs": [],
   "source": [
    "def find_breeds_by_features(preferences, n_neighbors=5, dataset=cleaned_data):\n",
    "    # Drop duplicates and select relevant features\n",
    "    unique_breeds = dataset.drop_duplicates(subset=['Breed'])\n",
    "    breed_features = unique_breeds[['popularity', 'trainability_value', 'demeanor_value', 'energy_level_value', 'min_height', 'max_height']]\n",
    "\n",
    "    # Normalize features\n",
    "    scaler = StandardScaler()\n",
    "    scaled_features = scaler.fit_transform(breed_features)\n",
    "\n",
    "    # Fit Nearest Neighbors model\n",
    "    knn = NearestNeighbors(n_neighbors=n_neighbors, algorithm='ball_tree')\n",
    "    knn.fit(scaled_features)\n",
    "\n",
    "    # Scale user preferences to match the scaled dataset\n",
    "    user_preferences = np.array(preferences).reshape(1, -1)\n",
    "    scaled_preferences = scaler.transform(user_preferences)\n",
    "    \n",
    "    # Use the scaled preferences to find the nearest neighbors\n",
    "    distances, indices = knn.kneighbors(scaled_preferences)\n",
    "\n",
    "    # Display breeds matching preferences\n",
    "    print(f\"Breeds matching preferences {preferences}:\")\n",
    "    for i in indices[0]:\n",
    "        print(f\"- {unique_breeds.iloc[i]['Breed']}\")\n",
    "\n",
    "# Example usage\n",
    "# User specifies: popularity=50, trainability=0.8, demeanor=0.6, energy=0.5, min_height=20, max_height=25\n",
    "user_preferences = [50, 0.8, 0.6, 0.5, 20, 25]\n",
    "find_breeds_by_features(user_preferences, n_neighbors=5)\n"
   ]
  },
  {
   "cell_type": "code",
   "execution_count": null,
   "id": "c8bb67c0",
   "metadata": {},
   "outputs": [],
   "source": []
  }
 ],
 "metadata": {
  "kernelspec": {
   "display_name": "Python 3 (ipykernel)",
   "language": "python",
   "name": "python3"
  },
  "language_info": {
   "codemirror_mode": {
    "name": "ipython",
    "version": 3
   },
   "file_extension": ".py",
   "mimetype": "text/x-python",
   "name": "python",
   "nbconvert_exporter": "python",
   "pygments_lexer": "ipython3",
   "version": "3.9.13"
  }
 },
 "nbformat": 4,
 "nbformat_minor": 5
}
